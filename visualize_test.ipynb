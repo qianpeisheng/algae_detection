{
 "cells": [
  {
   "cell_type": "code",
   "execution_count": 5,
   "metadata": {},
   "outputs": [],
   "source": [
    "import detectron2\n",
    "from detectron2.utils.logger import setup_logger\n",
    "setup_logger()\n",
    "import numpy as no\n",
    "import cv2\n",
    "import matplotlib\n",
    "import matplotlib.pyplot as plt\n",
    "%matplotlib inline\n",
    "matplotlib.use('Agg')\n",
    "import os\n",
    "# import some common detectron2 utilities\n",
    "from detectron2.engine import DefaultPredictor\n",
    "from detectron2.config import get_cfg\n",
    "from detectron2.utils.visualizer import Visualizer\n",
    "from detectron2.data import MetadataCatalog\n",
    "import shutil"
   ]
  },
  {
   "cell_type": "code",
   "execution_count": 6,
   "metadata": {},
   "outputs": [
    {
     "name": "stdout",
     "output_type": "stream",
     "text": [
      "\u001b[5m\u001b[31mWARNING\u001b[0m \u001b[32m[01/09 16:39:54 d2.config.compat]: \u001b[0mConfig './configs/PascalVOC-Detection/faster_rcnn_R_50_FPN.yaml' has no VERSION. Assuming it to be compatible with latest v2.\n"
     ]
    }
   ],
   "source": [
    "output_file = 'output'\n",
    "\n",
    "cfg = get_cfg()\n",
    "cfg.merge_from_file(\"./configs/PascalVOC-Detection/faster_rcnn_R_50_FPN.yaml\")\n",
    "cfg.MODEL.ROI_HEADS.SCORE_THRESH_TEST = 0.5  # set threshold for this model\n",
    "# Find a model from detectron2's model zoo. You can either use the https://dl.fbaipublicfiles.... url, or use the following shorthand\n",
    "cfg.MODEL.WEIGHTS = \"./\" + output_file + \"/model_final.pth\"\n",
    "predictor = DefaultPredictor(cfg)"
   ]
  },
  {
   "cell_type": "code",
   "execution_count": 7,
   "metadata": {},
   "outputs": [
    {
     "name": "stdout",
     "output_type": "stream",
     "text": [
      "0/358\n",
      "10/358\n",
      "20/358\n",
      "30/358\n",
      "40/358\n",
      "50/358\n",
      "60/358\n",
      "70/358\n",
      "80/358\n",
      "90/358\n",
      "100/358\n",
      "110/358\n",
      "120/358\n",
      "130/358\n",
      "140/358\n",
      "150/358\n",
      "160/358\n",
      "170/358\n",
      "180/358\n",
      "190/358\n",
      "200/358\n",
      "210/358\n",
      "220/358\n",
      "230/358\n",
      "240/358\n",
      "250/358\n",
      "260/358\n",
      "270/358\n",
      "280/358\n",
      "290/358\n",
      "300/358\n",
      "310/358\n",
      "320/358\n",
      "330/358\n",
      "340/358\n",
      "350/358\n"
     ]
    }
   ],
   "source": [
    "# read in test image names\n",
    "with open('/home/peisheng/detectron2/datasets/VOC2007/ImageSets/Main/test.txt') as f:\n",
    "    image_names = [i.strip() for i in f.readlines()]\n",
    "save_dir = './' + output_file + '/test_inferences_test_only'\n",
    "if not os.path.exists(save_dir):\n",
    "    os.makedirs(save_dir)\n",
    "for idx, i in enumerate(image_names):\n",
    "    if idx % 10 == 0:\n",
    "        print(f'{idx}/{len(image_names)}')\n",
    "    image_name = os.path.join('./' + output_file + '/test_inferences', i + '.jpg')\n",
    "    shutil.copyfile(image_name, os.path.join(save_dir, i + '.jpg'))"
   ]
  },
  {
   "cell_type": "code",
   "execution_count": 4,
   "metadata": {},
   "outputs": [
    {
     "name": "stdout",
     "output_type": "stream",
     "text": [
      "0/358\n",
      "10/358\n",
      "20/358\n",
      "30/358\n",
      "40/358\n",
      "50/358\n",
      "60/358\n",
      "70/358\n",
      "80/358\n",
      "90/358\n",
      "100/358\n",
      "110/358\n",
      "120/358\n",
      "130/358\n",
      "140/358\n",
      "150/358\n",
      "160/358\n",
      "170/358\n",
      "180/358\n",
      "190/358\n",
      "200/358\n",
      "210/358\n",
      "220/358\n",
      "230/358\n",
      "240/358\n",
      "250/358\n",
      "260/358\n",
      "270/358\n",
      "280/358\n",
      "290/358\n",
      "300/358\n",
      "310/358\n",
      "320/358\n",
      "330/358\n",
      "340/358\n",
      "350/358\n"
     ]
    }
   ],
   "source": [
    "# read in test image names\n",
    "with open('/home/peisheng/detectron2/datasets/VOC2007/ImageSets/Main/test.txt') as f:\n",
    "    image_names = [i.strip() for i in f.readlines()]\n",
    "save_dir = './' + output_file + '/test_inferences'\n",
    "if not os.path.exists(save_dir):\n",
    "    os.makedirs(save_dir)\n",
    "for idx, i in enumerate(image_names):\n",
    "    if idx % 10 == 0:\n",
    "        print(f'{idx}/{len(image_names)}')\n",
    "    image_name = os.path.join('./datasets/VOC2007/JPEGImages', i + '.jpg')\n",
    "    im = cv2.imread(image_name)\n",
    "    im = cv2.cvtColor(im,cv2.COLOR_BGR2RGB)\n",
    "    outputs = predictor(im)\n",
    "    # We can use `Visualizer` to draw the predictions on the image.\n",
    "    v = Visualizer(im[:, :, ::-1], MetadataCatalog.get(cfg.DATASETS.TRAIN[0]), scale=1.2)\n",
    "    v = v.draw_instance_predictions(outputs[\"instances\"].to(\"cpu\"))\n",
    "    plt.figure(figsize=(30,20))\n",
    "    plt.imshow(v.get_image()[:, :, ::-1])\n",
    "    plt.savefig(os.path.join(save_dir, i + '.jpg'))\n",
    "    plt.close()"
   ]
  },
  {
   "cell_type": "code",
   "execution_count": 30,
   "metadata": {},
   "outputs": [],
   "source": [
    "# print(outputs[\"instances\"].pred_classes)\n",
    "# print(outputs[\"instances\"].pred_boxes)"
   ]
  }
 ],
 "metadata": {
  "kernelspec": {
   "display_name": "Python 3",
   "language": "python",
   "name": "python3"
  },
  "language_info": {
   "codemirror_mode": {
    "name": "ipython",
    "version": 3
   },
   "file_extension": ".py",
   "mimetype": "text/x-python",
   "name": "python",
   "nbconvert_exporter": "python",
   "pygments_lexer": "ipython3",
   "version": "3.6.8"
  }
 },
 "nbformat": 4,
 "nbformat_minor": 4
}
